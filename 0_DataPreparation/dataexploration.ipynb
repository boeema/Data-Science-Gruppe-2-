{
 "cells": [
  {
   "cell_type": "code",
   "execution_count": null,
   "metadata": {
    "vscode": {
     "languageId": "plaintext"
    }
   },
   "outputs": [],
   "source": [
    "import pandas as pd\n",
    "import matplotlib.pyplot as plt\n",
    "\n",
    "# List of file paths\n",
    "file_paths = [\n",
    "    '../data/umsatzdaten_gekuerzt.csv',\n",
    "    '../data/wetter.csv',\n",
    "    '../data/kiwo.csv'\n",
    "]\n",
    "\n",
    "# Use a list comprehension to read the CSV files into DataFrames\n",
    "dataframes = [pd.read_csv(file) for file in file_paths]\n",
    "\n",
    "# Optionally, you can assign them to specific variable names\n",
    "df_umsatz, df_wetter, df_kiwo = dataframes"
   ]
  },
  {
   "cell_type": "code",
   "execution_count": null,
   "metadata": {
    "vscode": {
     "languageId": "plaintext"
    }
   },
   "outputs": [],
   "source": [
    "df.head()\n",
    "df.tail()\n",
    "\n",
    "# Convert 'Datum' to datetime format\n",
    "df['Datum'] = pd.to_datetime(df['Datum'])\n",
    "\n",
    "# Calculate descriptive statistics for numerical columns\n",
    "descriptive_stats = df.describe()\n",
    "\n",
    "print(descriptive_stats)\n"
   ]
  },
  {
   "cell_type": "code",
   "execution_count": null,
   "metadata": {
    "vscode": {
     "languageId": "plaintext"
    }
   },
   "outputs": [],
   "source": [
    "import seaborn as sns\n",
    "import numpy as np\n",
    "import matplotlib.pyplot as plt\n",
    "\n",
    "# Assuming df is your DataFrame\n",
    "numeric_columns = df.select_dtypes(include=[np.number]).columns\n",
    "\n",
    "# Create subplots\n",
    "num_columns = len(numeric_columns)\n",
    "fig, axes = plt.subplots(nrows=1, ncols=num_columns, figsize=(12, 6), sharey=False)\n",
    "\n",
    "# Create a violin plot for each numeric column\n",
    "for ax, column in zip(axes, numeric_columns):\n",
    "    sns.violinplot(data=df[column], ax=ax, inner='quartile')\n",
    "    ax.set_title(column)\n",
    "    # ax.set_yscale('log')  # Set Y-axis to logarithmic scale\n",
    "    ax.tick_params(axis='x', rotation=45)\n",
    "\n",
    "plt.tight_layout()  # Adjust layout to prevent overlap\n",
    "plt.show()\n"
   ]
  },
  {
   "cell_type": "code",
   "execution_count": null,
   "metadata": {
    "vscode": {
     "languageId": "plaintext"
    }
   },
   "outputs": [],
   "source": [
    "# Check for NaN\n",
    "for column in df.columns:\n",
    "    nan_count = df[column].isna().sum()\n",
    "    print(f\"Column '{column}' has {nan_count} NaN values.\")\n",
    "\n",
    "# infinite values\n",
    "import numpy as np\n",
    "print(\"Number of infinite values in 'Umsatz':\", np.isinf(df['Umsatz']).sum())"
   ]
  },
  {
   "cell_type": "code",
   "execution_count": null,
   "metadata": {
    "vscode": {
     "languageId": "plaintext"
    }
   },
   "outputs": [],
   "source": [
    "import pandas as pd\n",
    "import numpy as np\n",
    "import matplotlib.pyplot as plt\n",
    "\n",
    "# Assuming df is already defined and contains the necessary columns\n",
    "\n",
    "# Check for non-finite values in 'Umsatz'\n",
    "print(\"Number of NaN values in 'Umsatz':\", df['Umsatz'].isna().sum())\n",
    "print(\"Number of infinite values in 'Umsatz':\", np.isinf(df['Umsatz']).sum())\n",
    "\n",
    "# Clean the data by dropping NaN and infinite values\n",
    "df = df.dropna(subset=['Umsatz'])  # Drop NaN values\n",
    "df = df[~np.isinf(df['Umsatz'])]   # Drop infinite values\n",
    "\n",
    "# Plot histogram of 'Umsatz'\n",
    "plt.figure(figsize=(12, 6))\n",
    "plt.hist(df['Umsatz'], bins=30, color='blue', edgecolor='black', linewidth=0.2)\n",
    "plt.title('Histogram of Umsatz')\n",
    "plt.xlabel('Umsatz')\n",
    "plt.ylabel('Frequency')\n",
    "plt.grid()\n",
    "plt.tight_layout()\n",
    "plt.show()\n"
   ]
  },
  {
   "cell_type": "code",
   "execution_count": null,
   "metadata": {
    "vscode": {
     "languageId": "plaintext"
    }
   },
   "outputs": [],
   "source": [
    "import pandas as pd\n",
    "import numpy as np\n",
    "import matplotlib.pyplot as plt\n",
    "import scipy.stats as stats\n",
    "\n",
    "# Sample DataFrame for demonstration\n",
    "# df = pd.DataFrame({\n",
    "#     'A': np.random.normal(loc=0, scale=1, size=1000),  # Normally distributed\n",
    "#     'B': np.random.uniform(low=0, high=10, size=1000),  # Uniformly distributed\n",
    "#     'C': np.random.normal(loc=5, scale=2, size=1000)   # Normally distributed\n",
    "# })\n",
    "\n",
    "# Loop through each numeric column\n",
    "for column in df.select_dtypes(include=[np.number]).columns:\n",
    "    # Perform the Shapiro-Wilk test\n",
    "    stat, p_value = stats.shapiro(df[column].dropna())  # Drop NaN values for the test\n",
    "    print(f\"Column: {column}, Shapiro-Wilk Test Statistic: {stat}, p-value: {p_value}\")\n",
    "\n",
    "    # Check if the p-value is less than the significance level (e.g., 0.05)\n",
    "    if p_value > 0.05:\n",
    "        print(f\"The distribution of {column} appears to be normal (fail to reject H0).\")\n",
    "    else:\n",
    "        print(f\"The distribution of {column} does not appear to be normal (reject H0).\")\n",
    "\n",
    "    # Plot histogram\n",
    "    plt.figure(figsize=(12, 5))\n",
    "    plt.subplot(1, 2, 1)\n",
    "    plt.hist(df[column].dropna(), bins=30, color='blue', edgecolor='black', linewidth=0.2)\n",
    "    plt.title(f'Histogram of {column}')\n",
    "    plt.xlabel(column)\n",
    "    plt.ylabel('Frequency')\n",
    "\n",
    "    # Q-Q plot\n",
    "    plt.subplot(1, 2, 2)\n",
    "    stats.probplot(df[column].dropna(), dist=\"norm\", plot=plt)\n",
    "    plt.title(f'Q-Q Plot of {column}')\n",
    "\n",
    "    plt.tight_layout()\n",
    "    plt.show()\n"
   ]
  }
 ],
 "metadata": {
  "language_info": {
   "name": "python"
  }
 },
 "nbformat": 4,
 "nbformat_minor": 2
}
